{
 "cells": [
  {
   "cell_type": "markdown",
   "metadata": {},
   "source": [
    "### Will a Customer Accept the Coupon?\n",
    "\n",
    "**Context**\n",
    "\n",
    "Imagine driving through town and a coupon is delivered to your cell phone for a restaraunt near where you are driving. Would you accept that coupon and take a short detour to the restaraunt? Would you accept the coupon but use it on a sunbsequent trip? Would you ignore the coupon entirely? What if the coupon was for a bar instead of a restaraunt? What about a coffee house? Would you accept a bar coupon with a minor passenger in the car? What about if it was just you and your partner in the car? Would weather impact the rate of acceptance? What about the time of day?\n",
    "\n",
    "Obviously, proximity to the business is a factor on whether the coupon is delivered to the driver or not, but what are the factors that determine whether a driver accepts the coupon once it is delivered to them? How would you determine whether a driver is likely to accept a coupon?\n",
    "\n",
    "**Overview**\n",
    "\n",
    "The goal of this project is to use what you know about visualizations and probability distributions to distinguish between customers who accepted a driving coupon versus those that did not.\n",
    "\n",
    "**Data**\n",
    "\n",
    "This data comes to us from the UCI Machine Learning repository and was collected via a survey on Amazon Mechanical Turk. The survey describes different driving scenarios including the destination, current time, weather, passenger, etc., and then ask the person whether he will accept the coupon if he is the driver. Answers that the user will drive there ‘right away’ or ‘later before the coupon expires’ are labeled as ‘Y = 1’ and answers ‘no, I do not want the coupon’ are labeled as ‘Y = 0’.  There are five different types of coupons -- less expensive restaurants (under \\\\$20), coffee houses, carry out & take away, bar, and more expensive restaurants (\\\\$20 - \\\\$50). "
   ]
  },
  {
   "cell_type": "markdown",
   "metadata": {},
   "source": [
    "**Deliverables**\n",
    "\n",
    "Your final product should be a brief report that highlights the differences between customers who did and did not accept the coupons.  To explore the data you will utilize your knowledge of plotting, statistical summaries, and visualization using Python. You will publish your findings in a public facing github repository as your first portfolio piece. \n",
    "\n",
    "\n",
    "\n"
   ]
  },
  {
   "cell_type": "markdown",
   "metadata": {},
   "source": [
    "### Data Description\n",
    "Keep in mind that these values mentioned below are average values.\n",
    "\n",
    "The attributes of this data set include:\n",
    "1. User attributes\n",
    "    -  Gender: male, female\n",
    "    -  Age: below 21, 21 to 25, 26 to 30, etc.\n",
    "    -  Marital Status: single, married partner, unmarried partner, or widowed\n",
    "    -  Number of children: 0, 1, or more than 1\n",
    "    -  Education: high school, bachelors degree, associates degree, or graduate degree\n",
    "    -  Occupation: architecture & engineering, business & financial, etc.\n",
    "    -  Annual income: less than \\\\$12500, \\\\$12500 - \\\\$24999, \\\\$25000 - \\\\$37499, etc.\n",
    "    -  Number of times that he/she goes to a bar: 0, less than 1, 1 to 3, 4 to 8 or greater than 8\n",
    "    -  Number of times that he/she buys takeaway food: 0, less than 1, 1 to 3, 4 to 8 or greater\n",
    "    than 8\n",
    "    -  Number of times that he/she goes to a coffee house: 0, less than 1, 1 to 3, 4 to 8 or\n",
    "    greater than 8\n",
    "    -  Number of times that he/she eats at a restaurant with average expense less than \\\\$20 per\n",
    "    person: 0, less than 1, 1 to 3, 4 to 8 or greater than 8\n",
    "    -  Number of times that he/she goes to a bar: 0, less than 1, 1 to 3, 4 to 8 or greater than 8\n",
    "    \n",
    "\n",
    "2. Contextual attributes\n",
    "    - Driving destination: home, work, or no urgent destination\n",
    "    - Location of user, coupon and destination: we provide a map to show the geographical\n",
    "    location of the user, destination, and the venue, and we mark the distance between each\n",
    "    two places with time of driving. The user can see whether the venue is in the same\n",
    "    direction as the destination.\n",
    "    - Weather: sunny, rainy, or snowy\n",
    "    - Temperature: 30F, 55F, or 80F\n",
    "    - Time: 10AM, 2PM, or 6PM\n",
    "    - Passenger: alone, partner, kid(s), or friend(s)\n",
    "\n",
    "\n",
    "3. Coupon attributes\n",
    "    - time before it expires: 2 hours or one day"
   ]
  },
  {
   "cell_type": "code",
   "execution_count": 2,
   "metadata": {
    "tags": []
   },
   "outputs": [],
   "source": [
    "import matplotlib.pyplot as plt\n",
    "import seaborn as sns\n",
    "import pandas as pd\n",
    "import numpy as np"
   ]
  },
  {
   "cell_type": "markdown",
   "metadata": {},
   "source": [
    "### Problems\n",
    "\n",
    "Use the prompts below to get started with your data analysis.  \n",
    "\n",
    "1. Read in the `coupons.csv` file.\n",
    "\n",
    "\n"
   ]
  },
  {
   "cell_type": "code",
   "execution_count": 3,
   "metadata": {
    "tags": []
   },
   "outputs": [],
   "source": [
    "data = pd.read_csv('data/coupons.csv')"
   ]
  },
  {
   "cell_type": "code",
   "execution_count": 4,
   "metadata": {
    "tags": []
   },
   "outputs": [
    {
     "name": "stdout",
     "output_type": "stream",
     "text": [
      "       destination  passanger weather  temperature  time  \\\n",
      "0  No Urgent Place      Alone   Sunny           55   2PM   \n",
      "1  No Urgent Place  Friend(s)   Sunny           80  10AM   \n",
      "2  No Urgent Place  Friend(s)   Sunny           80  10AM   \n",
      "\n",
      "                  coupon expiration  gender age      maritalStatus  ...  \\\n",
      "0        Restaurant(<20)         1d  Female  21  Unmarried partner  ...   \n",
      "1           Coffee House         2h  Female  21  Unmarried partner  ...   \n",
      "2  Carry out & Take away         2h  Female  21  Unmarried partner  ...   \n",
      "\n",
      "   CoffeeHouse CarryAway RestaurantLessThan20 Restaurant20To50  \\\n",
      "0        never       NaN                  4~8              1~3   \n",
      "1        never       NaN                  4~8              1~3   \n",
      "2        never       NaN                  4~8              1~3   \n",
      "\n",
      "  toCoupon_GEQ5min toCoupon_GEQ15min toCoupon_GEQ25min direction_same  \\\n",
      "0                1                 0                 0              0   \n",
      "1                1                 0                 0              0   \n",
      "2                1                 1                 0              0   \n",
      "\n",
      "  direction_opp  Y  \n",
      "0             1  1  \n",
      "1             1  0  \n",
      "2             1  1  \n",
      "\n",
      "[3 rows x 26 columns]\n",
      "<class 'pandas.core.frame.DataFrame'>\n",
      "RangeIndex: 12684 entries, 0 to 12683\n",
      "Data columns (total 26 columns):\n",
      " #   Column                Non-Null Count  Dtype \n",
      "---  ------                --------------  ----- \n",
      " 0   destination           12684 non-null  object\n",
      " 1   passanger             12684 non-null  object\n",
      " 2   weather               12684 non-null  object\n",
      " 3   temperature           12684 non-null  int64 \n",
      " 4   time                  12684 non-null  object\n",
      " 5   coupon                12684 non-null  object\n",
      " 6   expiration            12684 non-null  object\n",
      " 7   gender                12684 non-null  object\n",
      " 8   age                   12684 non-null  object\n",
      " 9   maritalStatus         12684 non-null  object\n",
      " 10  has_children          12684 non-null  int64 \n",
      " 11  education             12684 non-null  object\n",
      " 12  occupation            12684 non-null  object\n",
      " 13  income                12684 non-null  object\n",
      " 14  car                   108 non-null    object\n",
      " 15  Bar                   12577 non-null  object\n",
      " 16  CoffeeHouse           12467 non-null  object\n",
      " 17  CarryAway             12533 non-null  object\n",
      " 18  RestaurantLessThan20  12554 non-null  object\n",
      " 19  Restaurant20To50      12495 non-null  object\n",
      " 20  toCoupon_GEQ5min      12684 non-null  int64 \n",
      " 21  toCoupon_GEQ15min     12684 non-null  int64 \n",
      " 22  toCoupon_GEQ25min     12684 non-null  int64 \n",
      " 23  direction_same        12684 non-null  int64 \n",
      " 24  direction_opp         12684 non-null  int64 \n",
      " 25  Y                     12684 non-null  int64 \n",
      "dtypes: int64(8), object(18)\n",
      "memory usage: 2.5+ MB\n"
     ]
    }
   ],
   "source": [
    "print(data.head(3))\n",
    "data.info()"
   ]
  },
  {
   "cell_type": "markdown",
   "metadata": {},
   "source": [
    "2. Investigate the dataset for missing or problematic data."
   ]
  },
  {
   "cell_type": "code",
   "execution_count": 5,
   "metadata": {
    "tags": []
   },
   "outputs": [
    {
     "name": "stdout",
     "output_type": "stream",
     "text": [
      "List of Nan Columns =  ['car', 'Bar', 'CoffeeHouse', 'CarryAway', 'RestaurantLessThan20', 'Restaurant20To50']\n",
      "Total rows in dataframe = \n",
      " 12684\n",
      "Number of Nan values in each column\n",
      " destination                 0\n",
      "passanger                   0\n",
      "weather                     0\n",
      "temperature                 0\n",
      "time                        0\n",
      "coupon                      0\n",
      "expiration                  0\n",
      "gender                      0\n",
      "age                         0\n",
      "maritalStatus               0\n",
      "has_children                0\n",
      "education                   0\n",
      "occupation                  0\n",
      "income                      0\n",
      "car                     12576\n",
      "Bar                       107\n",
      "CoffeeHouse               217\n",
      "CarryAway                 151\n",
      "RestaurantLessThan20      130\n",
      "Restaurant20To50          189\n",
      "toCoupon_GEQ5min            0\n",
      "toCoupon_GEQ15min           0\n",
      "toCoupon_GEQ25min           0\n",
      "direction_same              0\n",
      "direction_opp               0\n",
      "Y                           0\n",
      "dtype: int64\n"
     ]
    }
   ],
   "source": [
    "## Find out list of NaN columns, \n",
    "\n",
    "nan_columns = data.columns[data.isna().any()].tolist()\n",
    "print (\"List of Nan Columns = \", nan_columns) \n",
    "\n",
    "nan_counts  = data.isna().sum()\n",
    "#total_rows = len(data)\n",
    "total_rows = data.shape[0]\n",
    "\n",
    "print (\"Total rows in dataframe = \\n\", total_rows)\n",
    "print (\"Number of Nan values in each column\\n\" , nan_counts)"
   ]
  },
  {
   "cell_type": "markdown",
   "metadata": {},
   "source": [
    "3. Decide what to do about your missing data -- drop, replace, other..."
   ]
  },
  {
   "cell_type": "code",
   "execution_count": 6,
   "metadata": {
    "tags": []
   },
   "outputs": [
    {
     "name": "stdout",
     "output_type": "stream",
     "text": [
      "<class 'pandas.core.frame.DataFrame'>\n",
      "RangeIndex: 12684 entries, 0 to 12683\n",
      "Data columns (total 25 columns):\n",
      " #   Column                Non-Null Count  Dtype \n",
      "---  ------                --------------  ----- \n",
      " 0   destination           12684 non-null  object\n",
      " 1   passanger             12684 non-null  object\n",
      " 2   weather               12684 non-null  object\n",
      " 3   temperature           12684 non-null  int64 \n",
      " 4   time                  12684 non-null  object\n",
      " 5   coupon                12684 non-null  object\n",
      " 6   expiration            12684 non-null  object\n",
      " 7   gender                12684 non-null  object\n",
      " 8   age                   12684 non-null  object\n",
      " 9   maritalStatus         12684 non-null  object\n",
      " 10  has_children          12684 non-null  int64 \n",
      " 11  education             12684 non-null  object\n",
      " 12  occupation            12684 non-null  object\n",
      " 13  income                12684 non-null  object\n",
      " 14  Bar                   12577 non-null  object\n",
      " 15  CoffeeHouse           12467 non-null  object\n",
      " 16  CarryAway             12533 non-null  object\n",
      " 17  RestaurantLessThan20  12554 non-null  object\n",
      " 18  Restaurant20To50      12495 non-null  object\n",
      " 19  toCoupon_GEQ5min      12684 non-null  int64 \n",
      " 20  toCoupon_GEQ15min     12684 non-null  int64 \n",
      " 21  toCoupon_GEQ25min     12684 non-null  int64 \n",
      " 22  direction_same        12684 non-null  int64 \n",
      " 23  direction_opp         12684 non-null  int64 \n",
      " 24  Y                     12684 non-null  int64 \n",
      "dtypes: int64(8), object(17)\n",
      "memory usage: 2.4+ MB\n",
      "Number of rows after cleanup =   12079 vs original rows =  12684\n"
     ]
    }
   ],
   "source": [
    "## Car data is too much missing ; So planning to drop that column altogather \n",
    "data.drop('car', axis=1, inplace=True) \n",
    "data.info()\n",
    "## Rest of the data would be handled later based on usage of the data; So writing a function here to drop NaN values  \n",
    "## Simple method of dropping Na data is : \n",
    "data.dropna(inplace=True)\n",
    "\n",
    "## Check the resultant number of rows \n",
    "print (\"Number of rows after cleanup =  \", data.shape[0], \"vs original rows = \", total_rows)"
   ]
  },
  {
   "cell_type": "markdown",
   "metadata": {},
   "source": [
    "4. What proportion of the total observations chose to accept the coupon? \n",
    "\n"
   ]
  },
  {
   "cell_type": "code",
   "execution_count": 7,
   "metadata": {
    "tags": []
   },
   "outputs": [
    {
     "name": "stdout",
     "output_type": "stream",
     "text": [
      "# of people accepted the coupon =  6877 \n",
      "\n",
      "% of people who accepted the coupon =  54.22 \n",
      "\n"
     ]
    }
   ],
   "source": [
    "## Portion of guys who accepted coupon\n",
    "\n",
    "sumY = data[\"Y\"].sum()\n",
    "percnt = round(((sumY/total_rows)*100), 2)\n",
    "\n",
    "print (\"# of people accepted the coupon = \", sumY, \"\\n\") \n",
    "print (\"% of people who accepted the coupon = \", percnt, \"\\n\") \n"
   ]
  },
  {
   "cell_type": "markdown",
   "metadata": {},
   "source": [
    "5. Use a bar plot to visualize the `coupon` column."
   ]
  },
  {
   "cell_type": "code",
   "execution_count": 88,
   "metadata": {
    "tags": []
   },
   "outputs": [
    {
     "name": "stderr",
     "output_type": "stream",
     "text": [
      "C:\\Users\\at914397\\AppData\\Local\\Temp\\ipykernel_4916\\691054205.py:3: FutureWarning: \n",
      "\n",
      "Passing `palette` without assigning `hue` is deprecated and will be removed in v0.14.0. Assign the `x` variable to `hue` and set `legend=False` for the same effect.\n",
      "\n",
      "  sns.barplot(x=data['coupon'], y=data['Y'], palette=custom_palette)\n",
      "C:\\Users\\at914397\\AppData\\Local\\Temp\\ipykernel_4916\\691054205.py:3: UserWarning: \n",
      "The palette list has fewer values (4) than needed (5) and will cycle, which may produce an uninterpretable plot.\n",
      "  sns.barplot(x=data['coupon'], y=data['Y'], palette=custom_palette)\n"
     ]
    },
    {
     "data": {
      "image/png": "[encoded data removed]",
      "text/plain": [
       "<Figure size 640x480 with 1 Axes>"
      ]
     },
     "metadata": {},
     "output_type": "display_data"
    }
   ],
   "source": [
    "custom_palette = [\"#FF5733\", \"#33FF57\", \"#337EFF\", \"#FF33DD\"]\n",
    "\n",
    "sns.barplot(x=data['coupon'], y=data['Y'], palette=custom_palette)\n",
    "plt.xticks(rotation=90)  # Adjust the rotation angle as needed\n",
    "\n",
    "# Add labels and title\n",
    "plt.xlabel('Types of coupons')\n",
    "plt.ylabel('# of accepted coupons')\n",
    "plt.title('Barplot info on types of coupons')\n",
    "\n",
    "# Show plot\n",
    "plt.show()\n"
   ]
  },
  {
   "cell_type": "markdown",
   "metadata": {},
   "source": [
    "6. Use a histogram to visualize the temperature column."
   ]
  },
  {
   "cell_type": "code",
   "execution_count": 92,
   "metadata": {
    "tags": []
   },
   "outputs": [
    {
     "data": {
      "image/png": "[encoded data removed]",
      "text/plain": [
       "<Figure size 640x480 with 1 Axes>"
      ]
     },
     "metadata": {},
     "output_type": "display_data"
    }
   ],
   "source": [
    "sns.histplot(data=data, x='temperature', hue='Y')\n",
    "\n",
    "# Add labels and title\n",
    "plt.xlabel('Temperature categories')\n",
    "plt.ylabel('Frequency')\n",
    "plt.title('Histogram of Temperature data')\n",
    "\n",
    "# Show plot\n",
    "plt.show()"
   ]
  },
  {
   "cell_type": "code",
   "execution_count": null,
   "metadata": {},
   "outputs": [],
   "source": []
  },
  {
   "cell_type": "markdown",
   "metadata": {},
   "source": [
    "**Investigating the Bar Coupons**\n",
    "\n",
    "Now, we will lead you through an exploration of just the bar related coupons.  \n",
    "\n",
    "1. Create a new `DataFrame` that contains just the bar coupons.\n"
   ]
  },
  {
   "cell_type": "code",
   "execution_count": 95,
   "metadata": {
    "tags": []
   },
   "outputs": [
    {
     "name": "stdout",
     "output_type": "stream",
     "text": [
      "Bar coupons number =  1913\n"
     ]
    }
   ],
   "source": [
    "## Data with only Bar \n",
    "barcoupons = data[data['coupon']==\"Bar\"]\n",
    "print (\"Bar coupons number = \", barcoupons.shape[0])\n"
   ]
  },
  {
   "cell_type": "markdown",
   "metadata": {},
   "source": [
    "2. What proportion of bar coupons were accepted?\n"
   ]
  },
  {
   "cell_type": "code",
   "execution_count": 96,
   "metadata": {
    "tags": []
   },
   "outputs": [
    {
     "name": "stdout",
     "output_type": "stream",
     "text": [
      "Bar Accepted coupons percetage is =  41.19  %\n",
      "\n"
     ]
    }
   ],
   "source": [
    "#bar_accepted_coupons = round(((barcoupons['Y'].sum()/barcoupons.shape[0])*100),2) => alternate \n",
    "bar_accepted_coupons = round((barcoupons['Y'].mean())*100, 2) \n",
    "\n",
    "print (\"Bar Accepted coupons percetage is = \", bar_accepted_coupons, \" %\\n\")\n"
   ]
  },
  {
   "cell_type": "markdown",
   "metadata": {},
   "source": [
    "3. Compare the acceptance rate between those who went to a bar 3 or fewer times a month to those who went more.\n"
   ]
  },
  {
   "cell_type": "code",
   "execution_count": 147,
   "metadata": {
    "tags": []
   },
   "outputs": [
    {
     "name": "stdout",
     "output_type": "stream",
     "text": [
      " Acceptance Rate in Bar is =  37.27 % for 3 or less time visitors\n",
      " Acceptance Rate in Bar is =  76.17 % for more than 3 time visitors\n",
      "\n"
     ]
    }
   ],
   "source": [
    "#print (data['Bar'].unique())\n",
    "bargroup = barcoupons.groupby('Bar')\n",
    "barinfo = bargroup['Y'].sum()\n",
    "grouped_size = bargroup.size()\n",
    "\n",
    "#print (\"Group sizes =>> \\n\", grouped_size )\n",
    "#print (\"Bar info =>> \\n\", barinfo) \n",
    "\n",
    "## Check in each group type, the total Y in the Y column\n",
    "accept_morethan3 = round((((barinfo.loc[\"gt8\"]+barinfo.loc[\"4~8\"])/(grouped_size[\"gt8\"] + grouped_size[\"4~8\"])) * 100),   2)\n",
    "\n",
    "accept_3orLess = round((((barinfo.loc[\"1~3\"]+barinfo.loc[\"less1\"]+barinfo.loc[\"never\"])/(grouped_size[\"1~3\"] + grouped_size[\"less1\"]+ grouped_size[\"never\"])) * 100),   2)\n",
    "\n",
    "#print (\"Add -\", barinfo.loc[\"1~3\"]+barinfo.loc[\"less1\"]+barinfo.loc[\"never\"], grouped_size[\"1~3\"] + grouped_size[\"less1\"]+ grouped_size[\"never\"] )\n",
    "print (\" Acceptance Rate in Bar is = \", accept_3orLess,\"% for 3 or less time visitors\\n\", \n",
    "       \"Acceptance Rate in Bar is = \", accept_morethan3, \"% for more than 3 time visitors\\n\")\n"
   ]
  },
  {
   "cell_type": "markdown",
   "metadata": {},
   "source": [
    "4. Compare the acceptance rate between drivers who go to a bar more than once a month and are over the age of 25 to the all others.  Is there a difference?"
   ]
  },
  {
   "cell_type": "raw",
   "metadata": {},
   "source": []
  },
  {
   "cell_type": "code",
   "execution_count": 146,
   "metadata": {
    "tags": []
   },
   "outputs": [
    {
     "name": "stdout",
     "output_type": "stream",
     "text": [
      " Acceptance rate of drivers who go to bar more than once a month and are over 25 is 68.98 %\n",
      " Acceptance rate of rest of the drivers who go to bar is  33.77 %\n",
      "\n"
     ]
    }
   ],
   "source": [
    "morethanmonth = pd.DataFrame()\n",
    "morethanmonth = pd.concat([bargroup.get_group('1~3'), bargroup.get_group('4~8'), bargroup.get_group('gt8')], ignore_index=True)\n",
    "\n",
    "driver25up = morethanmonth.loc[(morethanmonth['age']==\"26\") | (morethanmonth['age']==\"31\") | (morethanmonth['age']==\"36\") | \n",
    "                               (morethanmonth['age']==\"41\") | (morethanmonth['age']==\"46\") | (morethanmonth['age']==\"50plus\")]\n",
    "\n",
    "#print (\"Drivers = \", len(driver25up), len(morethanmonth))\n",
    "\n",
    "driver25up_rate = round ((driver25up['Y'].mean())*100, 2)\n",
    "\n",
    "rest_drivers = round (((barcoupons['Y'].sum()-driver25up['Y'].sum())/(barcoupons.shape[0]-driver25up['Y'].shape[0]))*100, 2)\n",
    "\n",
    "print (\" Acceptance rate of drivers who go to bar more than once a month and are over 25 is\", driver25up_rate, \"%\\n\", \n",
    "       \"Acceptance rate of rest of the drivers who go to bar is \", rest_drivers , \"%\\n\") "
   ]
  },
  {
   "cell_type": "code",
   "execution_count": null,
   "metadata": {},
   "outputs": [],
   "source": []
  },
  {
   "cell_type": "markdown",
   "metadata": {},
   "source": [
    "5. Use the same process to compare the acceptance rate between drivers who go to bars more than once a month and had passengers that were not a kid and had occupations other than farming, fishing, or forestry. \n"
   ]
  },
  {
   "cell_type": "code",
   "execution_count": 144,
   "metadata": {},
   "outputs": [
    {
     "name": "stdout",
     "output_type": "stream",
     "text": [
      " Coupon Acceptance rate in drivers that visit bar more than a once =  68.53 % vs\n",
      " Drivers who accompany kids  43.51 % vs\n",
      " Drvers with no connection to Farming/Fishing etc 41.18 %\n"
     ]
    }
   ],
   "source": [
    "#print (morethanmonth['occupation'].unique())\n",
    "\n",
    "drivers_wokids = barcoupons.loc[(barcoupons['passanger']!=\"Kid(s)\")] \n",
    "drivers_wokids_woprof = barcoupons.loc[(barcoupons['occupation']!=\"Farming Fishing & Forestry\")] \n",
    "\n",
    "#drivers_wokids = morethanmonth.loc[(morethanmonth['passanger']!=\"Kid(s)\")] \n",
    "#drivers_wokids_woprof = drivers_wokids.loc[(drivers_wokids['occupation']!=\"Farming Fishing & Forestry\")] \n",
    "\n",
    "#print (morethanmonth.shape[0])\n",
    "#print (drivers_wokids.shape[0], drivers_wokids_woprof.shape[0])\n",
    "\n",
    "#print (drivers_wokids_woprof['occupation'].unique())\n",
    "\n",
    "print (\" Coupon Acceptance rate in drivers that visit bar more than a once = \", round((morethanmonth['Y'].mean())*100, 2), \"% vs\\n\",  \n",
    "       \"Drivers who accompany kids \", round((drivers_wokids['Y'].mean())*100, 2), \"% vs\\n\", \n",
    "       \"Drvers with no connection to Farming/Fishing etc\", round((drivers_wokids_woprof['Y'].mean())*100, 2), \"%\")\n"
   ]
  },
  {
   "cell_type": "markdown",
   "metadata": {},
   "source": [
    "6. Compare the acceptance rates between those drivers who:\n",
    "\n",
    "- go to bars more than once a month, had passengers that were not a kid, and were not widowed *OR*\n",
    "- go to bars more than once a month and are under the age of 30 *OR*\n",
    "- go to cheap restaurants more than 4 times a month and income is less than 50K. \n",
    "\n"
   ]
  },
  {
   "cell_type": "code",
   "execution_count": 141,
   "metadata": {
    "scrolled": true
   },
   "outputs": [
    {
     "name": "stdout",
     "output_type": "stream",
     "text": [
      "Acceptance rate in the drivers that do not have kids as passangers and were not widowed =  70.94 %\n",
      "Acceptance rate in the drivers that visit bar more than once a month & under the age 30 is =  71.95 %\n",
      "Acceptance rate in the drivers that visit resturantss < 4 times a month & has incomes less than =  45.65 %\n"
     ]
    }
   ],
   "source": [
    "#print (data['RestaurantLessThan20'].value_counts())\n",
    "drivers_wokids_min1month = morethanmonth.loc[(morethanmonth['passanger']!=\"Kid(s)\")] \n",
    "#print (morethanmonth['maritalStatus'].unique())\n",
    "#print (drivers_wokids_min1month['passanger'].shape[0])\n",
    "\n",
    "drivers_nokid_nowindow = drivers_wokids_min1month.loc[(drivers_wokids_min1month['maritalStatus']!=\"Widowed\")]\n",
    "\n",
    "\n",
    "print (\"Acceptance rate in the drivers that do not have kids as passangers and were not widowed = \", round((drivers_nokid_nowindow['Y'].mean())*100, 2), \"%\")\n",
    "\n",
    "drivers_morethanmonth_under30 = morethanmonth.loc[(morethanmonth['age']==\"21\") | (morethanmonth['age']==\"26\") | (morethanmonth['age']==\"below21\")]\n",
    "print (\"Acceptance rate in the drivers that visit bar more than once a month & under the age 30 is = \", round((drivers_morethanmonth_under30['Y'].mean())*100, 2), \"%\")\n",
    "\n",
    "cheap_rest_moretha4 = barcoupons.loc[((barcoupons['RestaurantLessThan20']==\"4~8\") | (barcoupons['RestaurantLessThan20']==\"gt8\")) & \n",
    "                                     ((barcoupons['income']==\"Less than $12500\") | (barcoupons['income']==\"$12500 - $24999\") | (barcoupons['income']==\"$25000 - $37499\") | \n",
    "                                      (barcoupons['income']==\"$37500 - $49999\"))]\n",
    "##barcoupons['income'].isin({'Less than $12500','$12500 - $24999','$25000 - $37499','$37500 - $49999'})][\"Y\"].mean()\n",
    "\n",
    "print (\"Acceptance rate in the drivers that visit resturantss < 4 times a month & has incomes less than = \", round((cheap_rest_moretha4['Y'].mean())*100, 2), \"%\")\n"
   ]
  },
  {
   "cell_type": "markdown",
   "metadata": {},
   "source": [
    "7.  Based on these observations, what do you hypothesize about drivers who accepted the bar coupons?"
   ]
  },
  {
   "cell_type": "code",
   "execution_count": null,
   "metadata": {},
   "outputs": [],
   "source": [
    "#It can be clearly seen from the data, that the BAR coupon acceptance rate is \n",
    "  #1# Highest among drivers who are above the age of 25 and below 35 years of age \n",
    "  #2# High acceptance rate among the drivers who visit Bar atleast once a month and highest among those visit more than 3 times a month\n",
    "  #3# Rate is almost 1/2 if the driver is accompanying the kids \n",
    "  #4# Less than 1/2 if we know that the drivers have been visiting resturants less than 4 times a month & has income less than 50K"
   ]
  },
  {
   "cell_type": "markdown",
   "metadata": {},
   "source": [
    "### Independent Investigation\n",
    "\n",
    "Using the bar coupon example as motivation, you are to explore one of the other coupon groups and try to determine the characteristics of passengers who accept the coupons.  "
   ]
  },
  {
   "cell_type": "code",
   "execution_count": null,
   "metadata": {},
   "outputs": [],
   "source": []
  },
  {
   "cell_type": "code",
   "execution_count": null,
   "metadata": {},
   "outputs": [],
   "source": []
  },
  {
   "cell_type": "code",
   "execution_count": null,
   "metadata": {},
   "outputs": [],
   "source": []
  },
  {
   "cell_type": "code",
   "execution_count": null,
   "metadata": {},
   "outputs": [],
   "source": []
  },
  {
   "cell_type": "code",
   "execution_count": null,
   "metadata": {},
   "outputs": [],
   "source": []
  }
 ],
 "metadata": {
  "kernelspec": {
   "display_name": "Python 3 (ipykernel)",
   "language": "python",
   "name": "python3"
  },
  "language_info": {
   "codemirror_mode": {
    "name": "ipython",
    "version": 3
   },
   "file_extension": ".py",
   "mimetype": "text/x-python",
   "name": "python",
   "nbconvert_exporter": "python",
   "pygments_lexer": "ipython3",
   "version": "3.11.7"
  },
  "widgets": {
   "application/vnd.jupyter.widget-state+json": {
    "state": {},
    "version_major": 2,
    "version_minor": 0
   }
  }
 },
 "nbformat": 4,
 "nbformat_minor": 4
}
